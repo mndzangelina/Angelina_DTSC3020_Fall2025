{
  "nbformat": 4,
  "nbformat_minor": 0,
  "metadata": {
    "colab": {
      "provenance": [],
      "authorship_tag": "ABX9TyOE8JyW7y499LIMOierFBWG",
      "include_colab_link": true
    },
    "kernelspec": {
      "name": "python3",
      "display_name": "Python 3"
    },
    "language_info": {
      "name": "python"
    }
  },
  "cells": [
    {
      "cell_type": "markdown",
      "metadata": {
        "id": "view-in-github",
        "colab_type": "text"
      },
      "source": [
        "<a href=\"https://colab.research.google.com/github/mndzangelina/Angelina_DTSC3020_Fall2025/blob/main/assignment2_am4478.ipynb\" target=\"_parent\"><img src=\"https://colab.research.google.com/assets/colab-badge.svg\" alt=\"Open In Colab\"/></a>"
      ]
    },
    {
      "cell_type": "code",
      "execution_count": null,
      "metadata": {
        "colab": {
          "base_uri": "https://localhost:8080/"
        },
        "id": "5Dq-hN5szcF7",
        "outputId": "2403e43e-9177-487c-def6-c226f0d2206e"
      },
      "outputs": [
        {
          "output_type": "stream",
          "name": "stdout",
          "text": [
            "['Strawberry', 'grape', 'cherry']\n"
          ]
        }
      ],
      "source": [
        "Fruits=[\"Strawberry\", \"grape\", \"cherry\"]\n",
        "print(Fruits)"
      ]
    },
    {
      "cell_type": "code",
      "source": [
        "Fruits=[\"Strawberry\", \"grape\", \"cherry\"]\n",
        "print(Fruits[0])"
      ],
      "metadata": {
        "colab": {
          "base_uri": "https://localhost:8080/"
        },
        "id": "PeaJ29T51Bhb",
        "outputId": "f8c2976a-5430-4195-d3e2-99029c73d29b"
      },
      "execution_count": null,
      "outputs": [
        {
          "output_type": "stream",
          "name": "stdout",
          "text": [
            "Strawberry\n"
          ]
        }
      ]
    },
    {
      "cell_type": "code",
      "source": [
        "Fruits=[\"Strawberry\", \"grape\", \"cherry\"]\n",
        "print(Fruits[1])"
      ],
      "metadata": {
        "colab": {
          "base_uri": "https://localhost:8080/"
        },
        "id": "0brHI6Ns2LKZ",
        "outputId": "65993d73-fb00-4cf0-819b-6aa2fe27659b"
      },
      "execution_count": null,
      "outputs": [
        {
          "output_type": "stream",
          "name": "stdout",
          "text": [
            "grape\n"
          ]
        }
      ]
    },
    {
      "cell_type": "code",
      "source": [
        "Fruits=[\"Strawberry\", \"grape\", \"cherry\"]\n",
        "print(Fruits[2])"
      ],
      "metadata": {
        "colab": {
          "base_uri": "https://localhost:8080/"
        },
        "id": "c8wBu40H2RtV",
        "outputId": "f3caa991-f87b-4479-e7dd-a12297635a07"
      },
      "execution_count": null,
      "outputs": [
        {
          "output_type": "stream",
          "name": "stdout",
          "text": [
            "cherry\n"
          ]
        }
      ]
    },
    {
      "cell_type": "code",
      "source": [
        "Names=[\"Amity\", \"Matthew\", \"Gabe\", \"Kayla\"]\n",
        "print(Names)"
      ],
      "metadata": {
        "colab": {
          "base_uri": "https://localhost:8080/"
        },
        "id": "9CFnRYyS3Pq1",
        "outputId": "d0e8f33a-5af2-4bd1-df7d-7a32283e43be"
      },
      "execution_count": null,
      "outputs": [
        {
          "output_type": "stream",
          "name": "stdout",
          "text": [
            "['Amity', 'Matthew', 'Gabe', 'Kayla']\n"
          ]
        }
      ]
    },
    {
      "cell_type": "code",
      "source": [
        "Names[0]= 'Chris'\n",
        "print(Names)"
      ],
      "metadata": {
        "colab": {
          "base_uri": "https://localhost:8080/"
        },
        "id": "xKn_yKH15n1E",
        "outputId": "ac56ae53-9d74-4c03-deea-1ef6c611f4d4"
      },
      "execution_count": null,
      "outputs": [
        {
          "output_type": "stream",
          "name": "stdout",
          "text": [
            "['Chris', 'Matthew', 'Gabe', 'Kayla']\n"
          ]
        }
      ]
    },
    {
      "cell_type": "code",
      "source": [
        "Vehicles=[\"car\", \"bus\", \"bike\", \"scooter\", \"motorcycle\"]\n",
        "print(Vehicles)"
      ],
      "metadata": {
        "colab": {
          "base_uri": "https://localhost:8080/"
        },
        "id": "R2dsL1yiA_DV",
        "outputId": "5ddca3d3-256d-49a9-b4ff-8200098923b8"
      },
      "execution_count": null,
      "outputs": [
        {
          "output_type": "stream",
          "name": "stdout",
          "text": [
            "['car', 'bus', 'bike', 'scooter', 'motorcycle']\n"
          ]
        }
      ]
    },
    {
      "cell_type": "code",
      "source": [
        "Vehicles.append('van')\n",
        "print(Vehicles)"
      ],
      "metadata": {
        "colab": {
          "base_uri": "https://localhost:8080/"
        },
        "id": "IGlMoaF0BqtT",
        "outputId": "99ecb6d5-be44-44d9-f01b-18c10a26d8fc"
      },
      "execution_count": null,
      "outputs": [
        {
          "output_type": "stream",
          "name": "stdout",
          "text": [
            "['car', 'bus', 'bike', 'scooter', 'motorcycle', 'van']\n"
          ]
        }
      ]
    },
    {
      "cell_type": "code",
      "source": [
        "Foods=[\"nachos\", \"sushi\", \"cake\", \"pizza\", \"bagel\", \"sandwhich\"]\n",
        "print(Foods)"
      ],
      "metadata": {
        "colab": {
          "base_uri": "https://localhost:8080/"
        },
        "id": "q1JsrdN8CYGK",
        "outputId": "e3224a1c-e843-4594-ece3-0cea6e19cc79"
      },
      "execution_count": null,
      "outputs": [
        {
          "output_type": "stream",
          "name": "stdout",
          "text": [
            "['nachos', 'sushi', 'cake', 'pizza', 'bagel', 'sandwhich']\n"
          ]
        }
      ]
    },
    {
      "cell_type": "code",
      "source": [
        "Foods.remove(\"bagel\")\n",
        "print(Foods)"
      ],
      "metadata": {
        "colab": {
          "base_uri": "https://localhost:8080/"
        },
        "id": "DC_C7vD7Cumb",
        "outputId": "94f54758-a283-4ff5-d1ba-30ac269b3021"
      },
      "execution_count": null,
      "outputs": [
        {
          "output_type": "stream",
          "name": "stdout",
          "text": [
            "['nachos', 'sushi', 'cake', 'pizza', 'sandwhich']\n"
          ]
        }
      ]
    },
    {
      "cell_type": "code",
      "source": [
        "Cities=[\"Los Angeles\", \"Fort Worth\", \"Chicago\", \"Austin\"]\n",
        "print(Cities)"
      ],
      "metadata": {
        "colab": {
          "base_uri": "https://localhost:8080/"
        },
        "id": "Z0xB7QK2DyBH",
        "outputId": "7ed67453-5917-48f9-955f-8697e8131cf8"
      },
      "execution_count": null,
      "outputs": [
        {
          "output_type": "stream",
          "name": "stdout",
          "text": [
            "['Los Angeles', 'Fort Worth', 'Chicago', 'Austin']\n"
          ]
        }
      ]
    },
    {
      "cell_type": "code",
      "source": [
        "Cities.sort()\n",
        "print(Cities)"
      ],
      "metadata": {
        "colab": {
          "base_uri": "https://localhost:8080/"
        },
        "id": "1y8b6YFgEBHd",
        "outputId": "5c273629-25be-4156-866c-ba5b2009deb0"
      },
      "execution_count": null,
      "outputs": [
        {
          "output_type": "stream",
          "name": "stdout",
          "text": [
            "['Austin', 'Chicago', 'Fort Worth', 'Los Angeles']\n"
          ]
        }
      ]
    },
    {
      "cell_type": "code",
      "source": [
        "Cities.sort(reverse=True)\n",
        "print(Cities)"
      ],
      "metadata": {
        "id": "cyVH0zjgEIb1",
        "outputId": "eb538b84-c0d8-4942-aaf8-ac95ade97cb9",
        "colab": {
          "base_uri": "https://localhost:8080/"
        }
      },
      "execution_count": null,
      "outputs": [
        {
          "output_type": "stream",
          "name": "stdout",
          "text": [
            "['Los Angeles', 'Fort Worth', 'Chicago', 'Austin']\n"
          ]
        }
      ]
    },
    {
      "cell_type": "code",
      "source": [
        "Animals= [\"tiger\", \"shark\", \"deer\"]\n",
        "for animal in Animals:\n",
        "    print(animal)"
      ],
      "metadata": {
        "colab": {
          "base_uri": "https://localhost:8080/"
        },
        "id": "fMnLepBOzAeW",
        "outputId": "4131c616-de83-44e6-8778-6a2d2662c8c6"
      },
      "execution_count": 2,
      "outputs": [
        {
          "output_type": "stream",
          "name": "stdout",
          "text": [
            "tiger\n",
            "shark\n",
            "deer\n"
          ]
        }
      ]
    },
    {
      "cell_type": "code",
      "source": [
        "Numbers= list(range(1, 6))\n",
        "print(Numbers)"
      ],
      "metadata": {
        "colab": {
          "base_uri": "https://localhost:8080/"
        },
        "id": "K0umHqBanK4f",
        "outputId": "8c97c591-ca41-4c57-fa75-e7d932f7f1da"
      },
      "execution_count": null,
      "outputs": [
        {
          "output_type": "stream",
          "name": "stdout",
          "text": [
            "[1, 2, 3, 4, 5]\n"
          ]
        }
      ]
    },
    {
      "cell_type": "code",
      "source": [
        "numbers_to_multiply = [1, 2, 3, 4, 5]\n",
        "multiplied_numbers = []\n",
        "\n",
        "for number in numbers_to_multiply:\n",
        "  multiplied_numbers.append(number * 2)\n",
        "\n",
        "print(multiplied_numbers)"
      ],
      "metadata": {
        "colab": {
          "base_uri": "https://localhost:8080/"
        },
        "id": "QyGz2Lzf08iG",
        "outputId": "b974ae85-7c5a-4f14-f277-35275ee5333b"
      },
      "execution_count": 4,
      "outputs": [
        {
          "output_type": "stream",
          "name": "stdout",
          "text": [
            "[2, 4, 6, 8, 10]\n"
          ]
        }
      ]
    },
    {
      "cell_type": "code",
      "source": [
        "friends= [\"amity\", \"alaya\", \"gabe\", \"matthew\", \"dean\",\"tiffany\"]\n",
        "print(friends[0:3])"
      ],
      "metadata": {
        "colab": {
          "base_uri": "https://localhost:8080/"
        },
        "id": "MH3dICBf1Pjf",
        "outputId": "278fa045-8afc-4dda-8a82-f041384623f4"
      },
      "execution_count": 5,
      "outputs": [
        {
          "output_type": "stream",
          "name": "stdout",
          "text": [
            "['amity', 'alaya', 'gabe']\n"
          ]
        }
      ]
    },
    {
      "cell_type": "code",
      "source": [
        "print(friends[3:6])"
      ],
      "metadata": {
        "colab": {
          "base_uri": "https://localhost:8080/"
        },
        "id": "KrVc52dT2TZ9",
        "outputId": "c9eed1a5-6804-4503-8bb1-f8f076e76533"
      },
      "execution_count": 7,
      "outputs": [
        {
          "output_type": "stream",
          "name": "stdout",
          "text": [
            "['matthew', 'dean', 'tiffany']\n"
          ]
        }
      ]
    },
    {
      "cell_type": "code",
      "source": [
        "for value in range(1, 11):\n",
        "  print(value)"
      ],
      "metadata": {
        "colab": {
          "base_uri": "https://localhost:8080/"
        },
        "id": "350cHhkQ2f3_",
        "outputId": "9e7df1f7-937e-4e66-8b6b-a86589c66f0c"
      },
      "execution_count": 8,
      "outputs": [
        {
          "output_type": "stream",
          "name": "stdout",
          "text": [
            "1\n",
            "2\n",
            "3\n",
            "4\n",
            "5\n",
            "6\n",
            "7\n",
            "8\n",
            "9\n",
            "10\n"
          ]
        }
      ]
    },
    {
      "cell_type": "code",
      "source": [
        "squares= [value**2 for value in range(1, 6)]\n",
        "print(squares)"
      ],
      "metadata": {
        "colab": {
          "base_uri": "https://localhost:8080/"
        },
        "id": "KD21Mer92r8e",
        "outputId": "4200b294-1988-4623-e720-54183efb3f82"
      },
      "execution_count": 9,
      "outputs": [
        {
          "output_type": "stream",
          "name": "stdout",
          "text": [
            "[1, 4, 9, 16, 25]\n"
          ]
        }
      ]
    }
  ]
}